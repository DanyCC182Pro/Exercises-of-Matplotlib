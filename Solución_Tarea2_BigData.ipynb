{
  "nbformat": 4,
  "nbformat_minor": 0,
  "metadata": {
    "colab": {
      "provenance": [],
      "include_colab_link": true
    },
    "kernelspec": {
      "display_name": "Python 3",
      "language": "python",
      "name": "python3"
    }
  },
  "cells": [
    {
      "cell_type": "markdown",
      "metadata": {
        "id": "view-in-github",
        "colab_type": "text"
      },
      "source": [
        "<a href=\"https://colab.research.google.com/github/DanyCC182Pro/Exercises-of-Python/blob/TestThings/Soluci%C3%B3n_Tarea2_BigData.ipynb\" target=\"_parent\"><img src=\"https://colab.research.google.com/assets/colab-badge.svg\" alt=\"Open In Colab\"/></a>"
      ]
    },
    {
      "cell_type": "markdown",
      "metadata": {
        "id": "unWMglupFRBN"
      },
      "source": [
        "# NumPy Taller\n",
        "\n"
      ]
    },
    {
      "cell_type": "markdown",
      "metadata": {
        "id": "RaoRSUjjFRBU"
      },
      "source": [
        "#### Importar NumPy como np"
      ]
    },
    {
      "cell_type": "code",
      "metadata": {
        "id": "igWimzisFRBa"
      },
      "source": [
        "import numpy as np\n"
      ],
      "execution_count": null,
      "outputs": []
    },
    {
      "cell_type": "markdown",
      "metadata": {
        "id": "aBdSHFMnFRBr"
      },
      "source": [
        "#### Crear un arreglo de 10 ceros"
      ]
    },
    {
      "cell_type": "code",
      "metadata": {
        "id": "iBqkPwYiFRBw",
        "colab": {
          "base_uri": "https://localhost:8080/"
        },
        "outputId": "086a2b05-86c5-4122-d8a3-6b79fff51e94"
      },
      "source": [
        "a = np.zeros(10)\n",
        "a"
      ],
      "execution_count": null,
      "outputs": [
        {
          "output_type": "execute_result",
          "data": {
            "text/plain": [
              "array([0., 0., 0., 0., 0., 0., 0., 0., 0., 0.])"
            ]
          },
          "metadata": {},
          "execution_count": 3
        }
      ]
    },
    {
      "cell_type": "code",
      "metadata": {
        "id": "4bHjbC58FRB6",
        "outputId": "fd800f47-9eb3-4e95-8c3a-5ad2608882d1"
      },
      "source": [
        "# NO USAR ESTA CELDA PARA QUE NO SE BORRE EL RESULTADO ESPERADO"
      ],
      "execution_count": null,
      "outputs": [
        {
          "output_type": "execute_result",
          "data": {
            "text/plain": [
              "array([0., 0., 0., 0., 0., 0., 0., 0., 0., 0.])"
            ]
          },
          "metadata": {
            "tags": []
          },
          "execution_count": 2
        }
      ]
    },
    {
      "cell_type": "markdown",
      "metadata": {
        "id": "OwTr4XmEFRCJ"
      },
      "source": [
        "#### Crear un arreglo de 10 unos"
      ]
    },
    {
      "cell_type": "code",
      "metadata": {
        "id": "gWhjPIMbFRCN",
        "colab": {
          "base_uri": "https://localhost:8080/"
        },
        "outputId": "341b006d-280a-4a54-ac60-6753f5fb2241"
      },
      "source": [
        "b = np.ones(10)\n",
        "b"
      ],
      "execution_count": null,
      "outputs": [
        {
          "output_type": "execute_result",
          "data": {
            "text/plain": [
              "array([1., 1., 1., 1., 1., 1., 1., 1., 1., 1.])"
            ]
          },
          "metadata": {},
          "execution_count": 4
        }
      ]
    },
    {
      "cell_type": "code",
      "metadata": {
        "id": "qs6m4k2VFRCY",
        "outputId": "e8fe2782-4a0f-4976-db91-e46f23c42168"
      },
      "source": [
        "# NO USAR ESTA CELDA PARA QUE NO SE BORRE EL RESULTADO ESPERADO"
      ],
      "execution_count": null,
      "outputs": [
        {
          "output_type": "execute_result",
          "data": {
            "text/plain": [
              "array([1., 1., 1., 1., 1., 1., 1., 1., 1., 1.])"
            ]
          },
          "metadata": {
            "tags": []
          },
          "execution_count": 3
        }
      ]
    },
    {
      "cell_type": "markdown",
      "metadata": {
        "id": "0ATkur1IFRCl"
      },
      "source": [
        "#### Crear un arreglo de 10 cincos"
      ]
    },
    {
      "cell_type": "code",
      "metadata": {
        "id": "x4xGewuVFRCq",
        "colab": {
          "base_uri": "https://localhost:8080/"
        },
        "outputId": "384294ad-1a77-47a9-eea0-4a362da9a8a7"
      },
      "source": [
        "c = np.ones(10)*5\n",
        "c"
      ],
      "execution_count": null,
      "outputs": [
        {
          "output_type": "execute_result",
          "data": {
            "text/plain": [
              "array([5., 5., 5., 5., 5., 5., 5., 5., 5., 5.])"
            ]
          },
          "metadata": {},
          "execution_count": 5
        }
      ]
    },
    {
      "cell_type": "code",
      "metadata": {
        "id": "AsmmAP_hFRC2",
        "outputId": "fad6a5af-9b10-4b22-aac7-0c9b5c559877"
      },
      "source": [
        "# NO USAR ESTA CELDA PARA QUE NO SE BORRE EL RESULTADO ESPERADO"
      ],
      "execution_count": null,
      "outputs": [
        {
          "output_type": "execute_result",
          "data": {
            "text/plain": [
              "array([5., 5., 5., 5., 5., 5., 5., 5., 5., 5.])"
            ]
          },
          "metadata": {
            "tags": []
          },
          "execution_count": 4
        }
      ]
    },
    {
      "cell_type": "markdown",
      "metadata": {
        "id": "0dgHruZJFRDR"
      },
      "source": [
        "#### Crear un arreglo de los números enteros desde 10 hasta 50 (incluido)"
      ]
    },
    {
      "cell_type": "code",
      "metadata": {
        "id": "9Y0IqkusFRDV",
        "colab": {
          "base_uri": "https://localhost:8080/"
        },
        "outputId": "5d9572a8-ffdb-4c55-f27e-e7e951fb96b9"
      },
      "source": [
        "d = np.arange(10,51)\n",
        "d"
      ],
      "execution_count": null,
      "outputs": [
        {
          "output_type": "execute_result",
          "data": {
            "text/plain": [
              "array([10, 11, 12, 13, 14, 15, 16, 17, 18, 19, 20, 21, 22, 23, 24, 25, 26,\n",
              "       27, 28, 29, 30, 31, 32, 33, 34, 35, 36, 37, 38, 39, 40, 41, 42, 43,\n",
              "       44, 45, 46, 47, 48, 49, 50])"
            ]
          },
          "metadata": {},
          "execution_count": 6
        }
      ]
    },
    {
      "cell_type": "code",
      "metadata": {
        "id": "v04KBureFRDg",
        "outputId": "9bd5b574-5ae6-48e9-ff5b-e1c2ec4f7f08"
      },
      "source": [
        "# NO USAR ESTA CELDA PARA QUE NO SE BORRE EL RESULTADO ESPERADO"
      ],
      "execution_count": null,
      "outputs": [
        {
          "output_type": "execute_result",
          "data": {
            "text/plain": [
              "array([10, 11, 12, 13, 14, 15, 16, 17, 18, 19, 20, 21, 22, 23, 24, 25, 26,\n",
              "       27, 28, 29, 30, 31, 32, 33, 34, 35, 36, 37, 38, 39, 40, 41, 42, 43,\n",
              "       44, 45, 46, 47, 48, 49, 50])"
            ]
          },
          "metadata": {
            "tags": []
          },
          "execution_count": 6
        }
      ]
    },
    {
      "cell_type": "markdown",
      "metadata": {
        "id": "djEpcZ7LFRDs"
      },
      "source": [
        "#### Crear un arreglo de todos los números pares entre 10 y 50 (incluido)"
      ]
    },
    {
      "cell_type": "code",
      "metadata": {
        "id": "-_PJDIEiFRDx",
        "colab": {
          "base_uri": "https://localhost:8080/"
        },
        "outputId": "e808e08f-1f2f-4695-a622-71d1a801355d"
      },
      "source": [
        "e = np.arange(10,51,2)\n",
        "e"
      ],
      "execution_count": null,
      "outputs": [
        {
          "output_type": "execute_result",
          "data": {
            "text/plain": [
              "array([10, 12, 14, 16, 18, 20, 22, 24, 26, 28, 30, 32, 34, 36, 38, 40, 42,\n",
              "       44, 46, 48, 50])"
            ]
          },
          "metadata": {},
          "execution_count": 7
        }
      ]
    },
    {
      "cell_type": "code",
      "metadata": {
        "id": "ayKbGsa4FRD7",
        "outputId": "3e392f89-ba0f-4459-f09d-ffcfb17ae3f3"
      },
      "source": [
        "# NO USAR ESTA CELDA PARA QUE NO SE BORRE EL RESULTADO ESPERADO"
      ],
      "execution_count": null,
      "outputs": [
        {
          "output_type": "execute_result",
          "data": {
            "text/plain": [
              "array([10, 12, 14, 16, 18, 20, 22, 24, 26, 28, 30, 32, 34, 36, 38, 40, 42,\n",
              "       44, 46, 48, 50])"
            ]
          },
          "metadata": {
            "tags": []
          },
          "execution_count": 7
        }
      ]
    },
    {
      "cell_type": "markdown",
      "metadata": {
        "id": "CE0-alV_FREI"
      },
      "source": [
        "#### Crear una matriz de 3x3 con valores desde 0 a 8"
      ]
    },
    {
      "cell_type": "code",
      "metadata": {
        "id": "6F3qe7W7FREM",
        "colab": {
          "base_uri": "https://localhost:8080/"
        },
        "outputId": "cb62c593-50da-4730-c628-7817d3f5f2d3"
      },
      "source": [
        "f = np.arange(0,9).reshape(3,3)\n",
        "f"
      ],
      "execution_count": null,
      "outputs": [
        {
          "output_type": "execute_result",
          "data": {
            "text/plain": [
              "array([[0, 1, 2],\n",
              "       [3, 4, 5],\n",
              "       [6, 7, 8]])"
            ]
          },
          "metadata": {},
          "execution_count": 8
        }
      ]
    },
    {
      "cell_type": "code",
      "metadata": {
        "id": "qH_NAXbbFREV",
        "outputId": "bfb2cfc4-db32-4a6c-e583-3e9bd74e2e08"
      },
      "source": [
        "# NO USAR ESTA CELDA PARA QUE NO SE BORRE EL RESULTADO ESPERADO"
      ],
      "execution_count": null,
      "outputs": [
        {
          "output_type": "execute_result",
          "data": {
            "text/plain": [
              "array([[0, 1, 2],\n",
              "       [3, 4, 5],\n",
              "       [6, 7, 8]])"
            ]
          },
          "metadata": {
            "tags": []
          },
          "execution_count": 8
        }
      ]
    },
    {
      "cell_type": "markdown",
      "metadata": {
        "id": "g60aNu63FREe"
      },
      "source": [
        "#### Crear una matriz identidad de 3x3"
      ]
    },
    {
      "cell_type": "code",
      "metadata": {
        "id": "V5cSxG5IFREn",
        "colab": {
          "base_uri": "https://localhost:8080/"
        },
        "outputId": "ce4893ba-18f2-43b2-971b-41055d1c90e6"
      },
      "source": [
        "g = np.eye(3)\n",
        "g"
      ],
      "execution_count": null,
      "outputs": [
        {
          "output_type": "execute_result",
          "data": {
            "text/plain": [
              "array([[1., 0., 0.],\n",
              "       [0., 1., 0.],\n",
              "       [0., 0., 1.]])"
            ]
          },
          "metadata": {},
          "execution_count": 9
        }
      ]
    },
    {
      "cell_type": "code",
      "metadata": {
        "id": "L-M-vKqKFRE0",
        "outputId": "129f90a7-03df-4d54-a8f1-2f1bf970042b"
      },
      "source": [
        "# NO USAR ESTA CELDA PARA QUE NO SE BORRE EL RESULTADO ESPERADO"
      ],
      "execution_count": null,
      "outputs": [
        {
          "output_type": "execute_result",
          "data": {
            "text/plain": [
              "array([[1., 0., 0.],\n",
              "       [0., 1., 0.],\n",
              "       [0., 0., 1.]])"
            ]
          },
          "metadata": {
            "tags": []
          },
          "execution_count": 9
        }
      ]
    },
    {
      "cell_type": "markdown",
      "metadata": {
        "id": "Z2QDu5P1FRFF"
      },
      "source": [
        "#### Usar NumPy para generar un número aleatorio entre 0 y 1"
      ]
    },
    {
      "cell_type": "code",
      "metadata": {
        "id": "CcXNJKmyFRFI",
        "colab": {
          "base_uri": "https://localhost:8080/"
        },
        "outputId": "b0a06ed1-36fc-435d-cb29-49bb081822c1"
      },
      "source": [
        "h = np.random.rand(1)\n",
        "h"
      ],
      "execution_count": null,
      "outputs": [
        {
          "output_type": "execute_result",
          "data": {
            "text/plain": [
              "array([0.23895857])"
            ]
          },
          "metadata": {},
          "execution_count": 10
        }
      ]
    },
    {
      "cell_type": "code",
      "metadata": {
        "id": "BusD0EbYFRFR",
        "outputId": "38b89431-305e-4c67-b16a-1f31dfb04a74"
      },
      "source": [
        "# NO USAR ESTA CELDA PARA QUE NO SE BORRE EL RESULTADO ESPERADO\n",
        "# Su resultado será diferente"
      ],
      "execution_count": null,
      "outputs": [
        {
          "output_type": "execute_result",
          "data": {
            "text/plain": [
              "array([0.13938024])"
            ]
          },
          "metadata": {
            "tags": []
          },
          "execution_count": 10
        }
      ]
    },
    {
      "cell_type": "markdown",
      "metadata": {
        "id": "KTRJ_g_GFRFg"
      },
      "source": [
        "#### Usar NumPy para generar 25 números aleatorios con una distribución de probabilidad normal"
      ]
    },
    {
      "cell_type": "code",
      "metadata": {
        "id": "9MAqhCOWFRFk",
        "colab": {
          "base_uri": "https://localhost:8080/"
        },
        "outputId": "50d4b7af-8c06-4d9a-9c7f-223313464682"
      },
      "source": [
        "i = np.random.randn(25)\n",
        "i"
      ],
      "execution_count": null,
      "outputs": [
        {
          "output_type": "execute_result",
          "data": {
            "text/plain": [
              "array([-1.81095592, -0.13164204, -0.39273306, -0.60804363,  0.1746092 ,\n",
              "       -0.30385814, -1.61240029, -1.32401553,  0.92136872,  0.82689064,\n",
              "        1.36737184,  0.0819614 ,  1.56452309,  0.24639927,  0.21952283,\n",
              "        0.45495958, -0.52678528,  1.50312571, -0.09544872,  1.97778904,\n",
              "        0.20228144, -0.7751584 ,  1.20273116,  0.95637982,  1.74325198])"
            ]
          },
          "metadata": {},
          "execution_count": 11
        }
      ]
    },
    {
      "cell_type": "code",
      "metadata": {
        "id": "vyf6Pk2kFRFo",
        "outputId": "a731dfd8-0f36-4f8d-8b57-dcecd21bcb4c"
      },
      "source": [
        "# NO USAR ESTA CELDA PARA QUE NO SE BORRE EL RESULTADO ESPERADO\n",
        "# Su resultado será diferente"
      ],
      "execution_count": null,
      "outputs": [
        {
          "output_type": "execute_result",
          "data": {
            "text/plain": [
              "array([-1.60723448,  1.85783081, -2.14544697,  0.77663188, -0.61915835,\n",
              "        0.52499653, -0.3833644 ,  1.02223757, -0.78965458,  0.26970229,\n",
              "       -0.88277958,  1.6956793 , -0.96679527, -0.18010509,  0.82531597,\n",
              "        1.05375325,  0.70396789, -0.12785109,  0.12090562, -1.66501872,\n",
              "       -0.73229563,  0.78010825, -0.39308434, -0.07028025, -0.34120063])"
            ]
          },
          "metadata": {
            "tags": []
          },
          "execution_count": 12
        }
      ]
    },
    {
      "cell_type": "markdown",
      "metadata": {
        "id": "J2iveSrCFRFx"
      },
      "source": [
        "#### Crear la siguiente matriz:"
      ]
    },
    {
      "cell_type": "code",
      "metadata": {
        "id": "QtC6oQaFFRFy",
        "colab": {
          "base_uri": "https://localhost:8080/"
        },
        "outputId": "92261826-62f8-4a5a-d863-01b50b22f2a4"
      },
      "source": [
        "j = np.arange(0.01,1.01,0.01).reshape(10,10)\n",
        "j"
      ],
      "execution_count": null,
      "outputs": [
        {
          "output_type": "execute_result",
          "data": {
            "text/plain": [
              "array([[0.01, 0.02, 0.03, 0.04, 0.05, 0.06, 0.07, 0.08, 0.09, 0.1 ],\n",
              "       [0.11, 0.12, 0.13, 0.14, 0.15, 0.16, 0.17, 0.18, 0.19, 0.2 ],\n",
              "       [0.21, 0.22, 0.23, 0.24, 0.25, 0.26, 0.27, 0.28, 0.29, 0.3 ],\n",
              "       [0.31, 0.32, 0.33, 0.34, 0.35, 0.36, 0.37, 0.38, 0.39, 0.4 ],\n",
              "       [0.41, 0.42, 0.43, 0.44, 0.45, 0.46, 0.47, 0.48, 0.49, 0.5 ],\n",
              "       [0.51, 0.52, 0.53, 0.54, 0.55, 0.56, 0.57, 0.58, 0.59, 0.6 ],\n",
              "       [0.61, 0.62, 0.63, 0.64, 0.65, 0.66, 0.67, 0.68, 0.69, 0.7 ],\n",
              "       [0.71, 0.72, 0.73, 0.74, 0.75, 0.76, 0.77, 0.78, 0.79, 0.8 ],\n",
              "       [0.81, 0.82, 0.83, 0.84, 0.85, 0.86, 0.87, 0.88, 0.89, 0.9 ],\n",
              "       [0.91, 0.92, 0.93, 0.94, 0.95, 0.96, 0.97, 0.98, 0.99, 1.  ]])"
            ]
          },
          "metadata": {},
          "execution_count": 12
        }
      ]
    },
    {
      "cell_type": "code",
      "metadata": {
        "id": "kz0WUYGdFRF3",
        "outputId": "4dac96b6-b10d-4bcb-ff2e-caa969771591"
      },
      "source": [
        "# NO USAR ESTA CELDA PARA QUE NO SE BORRE EL RESULTADO ESPERADO"
      ],
      "execution_count": null,
      "outputs": [
        {
          "output_type": "execute_result",
          "data": {
            "text/plain": [
              "array([[0.01, 0.02, 0.03, 0.04, 0.05, 0.06, 0.07, 0.08, 0.09, 0.1 ],\n",
              "       [0.11, 0.12, 0.13, 0.14, 0.15, 0.16, 0.17, 0.18, 0.19, 0.2 ],\n",
              "       [0.21, 0.22, 0.23, 0.24, 0.25, 0.26, 0.27, 0.28, 0.29, 0.3 ],\n",
              "       [0.31, 0.32, 0.33, 0.34, 0.35, 0.36, 0.37, 0.38, 0.39, 0.4 ],\n",
              "       [0.41, 0.42, 0.43, 0.44, 0.45, 0.46, 0.47, 0.48, 0.49, 0.5 ],\n",
              "       [0.51, 0.52, 0.53, 0.54, 0.55, 0.56, 0.57, 0.58, 0.59, 0.6 ],\n",
              "       [0.61, 0.62, 0.63, 0.64, 0.65, 0.66, 0.67, 0.68, 0.69, 0.7 ],\n",
              "       [0.71, 0.72, 0.73, 0.74, 0.75, 0.76, 0.77, 0.78, 0.79, 0.8 ],\n",
              "       [0.81, 0.82, 0.83, 0.84, 0.85, 0.86, 0.87, 0.88, 0.89, 0.9 ],\n",
              "       [0.91, 0.92, 0.93, 0.94, 0.95, 0.96, 0.97, 0.98, 0.99, 1.  ]])"
            ]
          },
          "metadata": {
            "tags": []
          },
          "execution_count": 13
        }
      ]
    },
    {
      "cell_type": "markdown",
      "metadata": {
        "id": "VBDwg-GtFRGf"
      },
      "source": [
        "#### Crear un arreglo de 20 elementos linealmente separados entre 0 y 1:"
      ]
    },
    {
      "cell_type": "code",
      "metadata": {
        "id": "gKJZUwDbFRGh",
        "colab": {
          "base_uri": "https://localhost:8080/"
        },
        "outputId": "56941d3b-76ea-4360-b3e2-2dd0b1ebd1e6"
      },
      "source": [
        "l = np.linspace(0,1,20)\n",
        "l"
      ],
      "execution_count": null,
      "outputs": [
        {
          "output_type": "execute_result",
          "data": {
            "text/plain": [
              "array([0.        , 0.05263158, 0.10526316, 0.15789474, 0.21052632,\n",
              "       0.26315789, 0.31578947, 0.36842105, 0.42105263, 0.47368421,\n",
              "       0.52631579, 0.57894737, 0.63157895, 0.68421053, 0.73684211,\n",
              "       0.78947368, 0.84210526, 0.89473684, 0.94736842, 1.        ])"
            ]
          },
          "metadata": {},
          "execution_count": 13
        }
      ]
    },
    {
      "cell_type": "code",
      "metadata": {
        "id": "XoU1h5l9FRGo",
        "outputId": "3c101233-74d1-4041-b0c6-31ec98cea08f"
      },
      "source": [
        "# NO USAR ESTA CELDA PARA QUE NO SE BORRE EL RESULTADO ESPERADO"
      ],
      "execution_count": null,
      "outputs": [
        {
          "output_type": "execute_result",
          "data": {
            "text/plain": [
              "array([0.        , 0.05263158, 0.10526316, 0.15789474, 0.21052632,\n",
              "       0.26315789, 0.31578947, 0.36842105, 0.42105263, 0.47368421,\n",
              "       0.52631579, 0.57894737, 0.63157895, 0.68421053, 0.73684211,\n",
              "       0.78947368, 0.84210526, 0.89473684, 0.94736842, 1.        ])"
            ]
          },
          "metadata": {
            "tags": []
          },
          "execution_count": 16
        }
      ]
    },
    {
      "cell_type": "markdown",
      "metadata": {
        "id": "pfbIq4JIFRGt"
      },
      "source": [
        "## Numpy - Índices y Selección\n",
        "\n",
        "A partir de la siguiente matriz, replique los resultados que se presentan a continuación:"
      ]
    },
    {
      "cell_type": "code",
      "metadata": {
        "id": "4nzzxJD2FRGv",
        "colab": {
          "base_uri": "https://localhost:8080/"
        },
        "outputId": "5883c94a-4215-430d-f41e-ad48402a918a"
      },
      "source": [
        "n = np.arange(1,26).reshape(5,5)\n",
        "n"
      ],
      "execution_count": null,
      "outputs": [
        {
          "output_type": "execute_result",
          "data": {
            "text/plain": [
              "array([[ 1,  2,  3,  4,  5],\n",
              "       [ 6,  7,  8,  9, 10],\n",
              "       [11, 12, 13, 14, 15],\n",
              "       [16, 17, 18, 19, 20],\n",
              "       [21, 22, 23, 24, 25]])"
            ]
          },
          "metadata": {},
          "execution_count": 14
        }
      ]
    },
    {
      "cell_type": "code",
      "metadata": {
        "id": "_5Hjk_3YFRGz",
        "colab": {
          "base_uri": "https://localhost:8080/"
        },
        "outputId": "76613cbc-f6d9-4345-cdd3-cd3fb7dcfde7"
      },
      "source": [
        "# ESCRIBA SU CODIGO AQUI PARA NO BORRAR EL RESULTADO ESPERADO\n",
        "m = n[2:,1:]\n",
        "m"
      ],
      "execution_count": null,
      "outputs": [
        {
          "output_type": "execute_result",
          "data": {
            "text/plain": [
              "array([[12, 13, 14, 15],\n",
              "       [17, 18, 19, 20],\n",
              "       [22, 23, 24, 25]])"
            ]
          },
          "metadata": {},
          "execution_count": 16
        }
      ]
    },
    {
      "cell_type": "code",
      "metadata": {
        "id": "BZ1h6nbdFRG6",
        "outputId": "1922f600-0496-4756-f5c5-23e3ec8a6e78"
      },
      "source": [
        "# NO USAR ESTA CELDA PARA QUE NO SE BORRE EL RESULTADO ESPERADO"
      ],
      "execution_count": null,
      "outputs": [
        {
          "output_type": "execute_result",
          "data": {
            "text/plain": [
              "array([[12, 13, 14, 15],\n",
              "       [17, 18, 19, 20],\n",
              "       [22, 23, 24, 25]])"
            ]
          },
          "metadata": {
            "tags": []
          },
          "execution_count": 19
        }
      ]
    },
    {
      "cell_type": "code",
      "metadata": {
        "id": "Nt9t8kH7FRG_",
        "colab": {
          "base_uri": "https://localhost:8080/"
        },
        "outputId": "e124a1cd-62e2-48ba-811e-db017f051eec"
      },
      "source": [
        "# ESCRIBA SU CODIGO AQUI PARA NO BORRAR EL RESULTADO ESPERADO\n",
        "o = n[3,4]\n",
        "o\n"
      ],
      "execution_count": null,
      "outputs": [
        {
          "output_type": "execute_result",
          "data": {
            "text/plain": [
              "20"
            ]
          },
          "metadata": {},
          "execution_count": 17
        }
      ]
    },
    {
      "cell_type": "code",
      "metadata": {
        "id": "UYuDMi-oFRHC",
        "outputId": "6ffaec31-3a9b-46fa-9be9-4b21e960d9d0"
      },
      "source": [
        "# NO USAR ESTA CELDA PARA QUE NO SE BORRE EL RESULTADO ESPERADO"
      ],
      "execution_count": null,
      "outputs": [
        {
          "output_type": "execute_result",
          "data": {
            "text/plain": [
              "20"
            ]
          },
          "metadata": {
            "tags": []
          },
          "execution_count": 21
        }
      ]
    },
    {
      "cell_type": "code",
      "metadata": {
        "id": "7ayVDEYjFRHX",
        "colab": {
          "base_uri": "https://localhost:8080/"
        },
        "outputId": "5e239b82-963e-4973-b26d-00446cf264d6"
      },
      "source": [
        "# ESCRIBA SU CODIGO AQUI PARA NO BORRAR EL RESULTADO ESPERADO\n",
        "p = n[:3,1:2]\n",
        "p\n"
      ],
      "execution_count": null,
      "outputs": [
        {
          "output_type": "execute_result",
          "data": {
            "text/plain": [
              "array([[ 2],\n",
              "       [ 7],\n",
              "       [12]])"
            ]
          },
          "metadata": {},
          "execution_count": 19
        }
      ]
    },
    {
      "cell_type": "code",
      "metadata": {
        "id": "oub9zcbEFRHh",
        "outputId": "07e0aa7c-5b70-4baa-fccb-ce2bb6b6e7dd"
      },
      "source": [
        "# NO USAR ESTA CELDA PARA QUE NO SE BORRE EL RESULTADO ESPERADO"
      ],
      "execution_count": null,
      "outputs": [
        {
          "output_type": "execute_result",
          "data": {
            "text/plain": [
              "array([[ 2],\n",
              "       [ 7],\n",
              "       [12]])"
            ]
          },
          "metadata": {
            "tags": []
          },
          "execution_count": 23
        }
      ]
    },
    {
      "cell_type": "code",
      "metadata": {
        "id": "VWL9spuDFRHm",
        "colab": {
          "base_uri": "https://localhost:8080/"
        },
        "outputId": "cee876b6-f24d-4c8e-e105-cc0d73bf3d8b"
      },
      "source": [
        "# ESCRIBA SU CODIGO AQUI PARA NO BORRAR EL RESULTADO ESPERADO\n",
        "q = n[4,:]\n",
        "q\n"
      ],
      "execution_count": null,
      "outputs": [
        {
          "output_type": "execute_result",
          "data": {
            "text/plain": [
              "array([21, 22, 23, 24, 25])"
            ]
          },
          "metadata": {},
          "execution_count": 20
        }
      ]
    },
    {
      "cell_type": "code",
      "metadata": {
        "id": "FJFnTHYvFRHt",
        "outputId": "bdcc29ae-2d37-43f3-d540-f57b9fbeb17f"
      },
      "source": [
        "# NO USAR ESTA CELDA PARA QUE NO SE BORRE EL RESULTADO ESPERADO"
      ],
      "execution_count": null,
      "outputs": [
        {
          "output_type": "execute_result",
          "data": {
            "text/plain": [
              "array([21, 22, 23, 24, 25])"
            ]
          },
          "metadata": {
            "tags": []
          },
          "execution_count": 25
        }
      ]
    },
    {
      "cell_type": "code",
      "metadata": {
        "id": "7RZ9V-8YFRH1",
        "colab": {
          "base_uri": "https://localhost:8080/"
        },
        "outputId": "1ecc2068-c718-45e1-d841-f790efcc3137"
      },
      "source": [
        "# ESCRIBA SU CODIGO AQUI PARA NO BORRAR EL RESULTADO ESPERADO\n",
        "r = n[3:,:]\n",
        "r\n"
      ],
      "execution_count": null,
      "outputs": [
        {
          "output_type": "execute_result",
          "data": {
            "text/plain": [
              "array([[16, 17, 18, 19, 20],\n",
              "       [21, 22, 23, 24, 25]])"
            ]
          },
          "metadata": {},
          "execution_count": 21
        }
      ]
    },
    {
      "cell_type": "code",
      "metadata": {
        "id": "3PNv1guSFRH5",
        "outputId": "65f62f03-e340-4e38-975b-8b163790da5f"
      },
      "source": [
        "# NO USAR ESTA CELDA PARA QUE NO SE BORRE EL RESULTADO ESPERADO"
      ],
      "execution_count": null,
      "outputs": [
        {
          "output_type": "execute_result",
          "data": {
            "text/plain": [
              "array([[16, 17, 18, 19, 20],\n",
              "       [21, 22, 23, 24, 25]])"
            ]
          },
          "metadata": {
            "tags": []
          },
          "execution_count": 27
        }
      ]
    },
    {
      "cell_type": "markdown",
      "metadata": {
        "id": "MvlPoUhMFRH_"
      },
      "source": [
        "## NumPy - Operaciones"
      ]
    },
    {
      "cell_type": "markdown",
      "metadata": {
        "id": "gjyiTZ28FRIB"
      },
      "source": [
        "#### Obtener la suma de todos los valores de la matriz 'mat'"
      ]
    },
    {
      "cell_type": "code",
      "metadata": {
        "id": "T--fEzq3FRID"
      },
      "source": [
        "mat = np.array([[ 1,  2,  3,  4,  5],\n",
        "       [ 6,  7,  8,  9, 10],\n",
        "       [11, 12, 13, 14, 15],\n",
        "       [16, 17, 18, 19, 20],\n",
        "       [21, 22, 23, 24, 25]])"
      ],
      "execution_count": null,
      "outputs": []
    },
    {
      "cell_type": "code",
      "metadata": {
        "id": "KR7tp0h_FRIK",
        "outputId": "2a6e608a-a843-49b0-e7b3-4475a7b2769c"
      },
      "source": [
        "# NO USAR ESTA CELDA PARA QUE NO SE BORRE EL RESULTADO ESPERADO"
      ],
      "execution_count": null,
      "outputs": [
        {
          "output_type": "execute_result",
          "data": {
            "text/plain": [
              "325"
            ]
          },
          "metadata": {
            "tags": []
          },
          "execution_count": 28
        }
      ]
    },
    {
      "cell_type": "markdown",
      "metadata": {
        "id": "marpjTh_FRIP"
      },
      "source": [
        "#### Obtener las desviación estándar de los valores en la matriz 'mat'"
      ]
    },
    {
      "cell_type": "code",
      "metadata": {
        "id": "Lc8FBsxuFRIQ",
        "colab": {
          "base_uri": "https://localhost:8080/"
        },
        "outputId": "bffaa475-ad56-47f3-d125-42dd6f6b9dea"
      },
      "source": [
        "s = np.std(mat)\n",
        "s"
      ],
      "execution_count": null,
      "outputs": [
        {
          "output_type": "execute_result",
          "data": {
            "text/plain": [
              "7.211102550927978"
            ]
          },
          "metadata": {},
          "execution_count": 24
        }
      ]
    },
    {
      "cell_type": "code",
      "metadata": {
        "id": "cVZi9E1fFRIT",
        "outputId": "4bc5dacb-5b86-4624-dfb1-46e71a82682d"
      },
      "source": [
        "# NO USAR ESTA CELDA PARA QUE NO SE BORRE EL RESULTADO ESPERADO"
      ],
      "execution_count": null,
      "outputs": [
        {
          "output_type": "execute_result",
          "data": {
            "text/plain": [
              "7.211102550927978"
            ]
          },
          "metadata": {
            "tags": []
          },
          "execution_count": 30
        }
      ]
    },
    {
      "cell_type": "markdown",
      "metadata": {
        "id": "ojsUA-PJFRI6"
      },
      "source": [
        "#### Obtener la suma de los valores en cada columna de la matriz"
      ]
    },
    {
      "cell_type": "code",
      "metadata": {
        "id": "aanKghebFRI9",
        "colab": {
          "base_uri": "https://localhost:8080/"
        },
        "outputId": "8aa06a3f-e8c1-4e45-c16b-1dd3e767f113"
      },
      "source": [
        "t = np.sum(mat,axis=0)\n",
        "t"
      ],
      "execution_count": null,
      "outputs": [
        {
          "output_type": "execute_result",
          "data": {
            "text/plain": [
              "array([55, 60, 65, 70, 75])"
            ]
          },
          "metadata": {},
          "execution_count": 25
        }
      ]
    },
    {
      "cell_type": "code",
      "metadata": {
        "id": "FMOJKRtoFRJA",
        "outputId": "ccde838f-a201-4155-8a39-c0da221238b9"
      },
      "source": [
        "# NO USAR ESTA CELDA PARA QUE NO SE BORRE EL RESULTADO ESPERADO"
      ],
      "execution_count": null,
      "outputs": [
        {
          "output_type": "execute_result",
          "data": {
            "text/plain": [
              "array([55, 60, 65, 70, 75])"
            ]
          },
          "metadata": {
            "tags": []
          },
          "execution_count": 53
        }
      ]
    },
    {
      "cell_type": "code",
      "source": [
        "import matplotlib.pyplot as plt\n",
        "\n",
        "# Datos para graficar\n",
        "x = [1, 2, 3, 4, 5]\n",
        "y = [2, 4, 6, 8, 10]\n",
        "\n",
        "# Crear la gráfica\n",
        "plt.plot(x, y)\n",
        "\n",
        "# Añadir título y etiquetas\n",
        "plt.title('Gráfica Simple')\n",
        "plt.xlabel('Eje X')\n",
        "plt.ylabel('Eje Y')\n",
        "\n",
        "# Mostrar la gráfica\n",
        "plt.show()"
      ],
      "metadata": {
        "id": "NTevDnHgIF_J",
        "outputId": "fc425447-af58-46c2-d445-7fbb8f477848",
        "colab": {
          "base_uri": "https://localhost:8080/",
          "height": 472
        }
      },
      "execution_count": null,
      "outputs": [
        {
          "output_type": "display_data",
          "data": {
            "text/plain": [
              "<Figure size 640x480 with 1 Axes>"
            ],
            "image/png": "[encoded data removed]"
          },
          "metadata": {}
        }
      ]
    }
  ]
}