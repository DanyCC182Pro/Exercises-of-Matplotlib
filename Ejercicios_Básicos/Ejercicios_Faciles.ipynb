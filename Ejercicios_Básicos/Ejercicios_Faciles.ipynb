{
  "nbformat": 4,
  "nbformat_minor": 0,
  "metadata": {
    "colab": {
      "provenance": [],
      "include_colab_link": true
    },
    "kernelspec": {
      "display_name": "Python 3",
      "language": "python",
      "name": "python3"
    }
  },
  "cells": [
    {
      "cell_type": "markdown",
      "metadata": {
        "id": "view-in-github",
        "colab_type": "text"
      },
      "source": [
        "<a href=\"https://colab.research.google.com/github/DanyCC182Pro/Exercises-of-Python/blob/main/Solucion_de_3_Ejercicios_Semana1.ipynb\" target=\"_parent\"><img src=\"https://colab.research.google.com/assets/colab-badge.svg\" alt=\"Open In Colab\"/></a>"
      ]
    },
    {
      "cell_type": "markdown",
      "metadata": {
        "id": "Wq3TTTOhv_XG"
      },
      "source": [
        "# Ejercicios curso rápido de Python\n",
        "\n",
        "En este notebook se plantan algunos ejercicios de programación en Python para repasar los conceptos estudiados. Si usted piensa que necesita más bases de programación o más bases de Python por favor considere hacer trabajo extra para ponerse al día. Por ejemplo con el siguiente curso en línea: [CodeCademy: Learn Python (10 hours)](https://www.codecademy.com/courses/learn-python/lessons/python-syntax/exercises/welcome?action=lesson_resume)."
      ]
    },
    {
      "cell_type": "markdown",
      "source": [
        "<img src='https://mdg.imgix.net/assets/images/tux.png?auto=format&fit=clip&q=40&w=100'>"
      ],
      "metadata": {
        "id": "PvxYtalovHLQ"
      }
    },
    {
      "cell_type": "markdown",
      "metadata": {
        "id": "vIhFXSDKv_XM"
      },
      "source": [
        "## Ejercicios\n",
        "\n",
        "Conteste las preguntas o complete las tareas que se presentan en negrilla a continuación. Use los métodos de Python cuando sea necesario."
      ]
    },
    {
      "cell_type": "markdown",
      "metadata": {
        "id": "SCdd0p4-v_XQ"
      },
      "source": [
        "**Calcular el resultado de 7 elevado a la potencia de 4.**"
      ]
    },
    {
      "cell_type": "code",
      "metadata": {
        "id": "vM3YnNdEv_XX",
        "colab": {
          "base_uri": "https://localhost:8080/"
        },
        "outputId": "cd20a526-c246-45d6-88fe-54db3ed147d3"
      },
      "source": [
        "7**4"
      ],
      "execution_count": null,
      "outputs": [
        {
          "output_type": "execute_result",
          "data": {
            "text/plain": [
              "2401"
            ]
          },
          "metadata": {},
          "execution_count": 1
        }
      ]
    },
    {
      "cell_type": "code",
      "metadata": {
        "id": "nuVkmGFnv_Xg",
        "outputId": "b36a3f78-58e9-42be-8c83-de1eda926c45"
      },
      "source": [
        "# NO USAR ESTA CELDA PARA QUE NO SE BORRE EL RESULTADO ESPERADO"
      ],
      "execution_count": null,
      "outputs": [
        {
          "output_type": "execute_result",
          "data": {
            "text/plain": [
              "2401"
            ]
          },
          "metadata": {
            "tags": []
          },
          "execution_count": 1
        }
      ]
    },
    {
      "cell_type": "markdown",
      "metadata": {
        "id": "uN0TW4n9v_Xt"
      },
      "source": [
        "**Separe la siguiente cadena (usando como delimitador los espacios):**\n",
        "\n",
        "    s = \"Hola, este es un ejercio de Python!\"\n",
        "    \n",
        "**en una lista.**"
      ]
    },
    {
      "cell_type": "code",
      "metadata": {
        "id": "SAqg16Fcv_Xv"
      },
      "source": [
        "s = \"Hola, este es un ejercio de Python!\""
      ],
      "execution_count": null,
      "outputs": []
    },
    {
      "cell_type": "code",
      "metadata": {
        "id": "mfJMUTJgv_X2",
        "colab": {
          "base_uri": "https://localhost:8080/"
        },
        "outputId": "50ca3ed6-3822-4788-edc3-ef20e590ade1"
      },
      "source": [
        "s.split()"
      ],
      "execution_count": null,
      "outputs": [
        {
          "output_type": "execute_result",
          "data": {
            "text/plain": [
              "['Hola,', 'este', 'es', 'un', 'ejercio', 'de', 'Python!']"
            ]
          },
          "metadata": {},
          "execution_count": 4
        }
      ]
    },
    {
      "cell_type": "code",
      "metadata": {
        "id": "zJRjhSJtv_X8",
        "outputId": "f03420cc-84a4-41b0-c004-ee741f909b72"
      },
      "source": [
        "# NO USAR ESTA CELDA PARA QUE NO SE BORRE EL RESULTADO ESPERADO"
      ],
      "execution_count": null,
      "outputs": [
        {
          "output_type": "execute_result",
          "data": {
            "text/plain": [
              "['Hola,', 'este', 'es', 'un', 'ejercio', 'de', 'Python!']"
            ]
          },
          "metadata": {
            "tags": []
          },
          "execution_count": 4
        }
      ]
    },
    {
      "cell_type": "markdown",
      "metadata": {
        "id": "Eg2AjGVMv_YH"
      },
      "source": [
        "**Dadas las siguientes variables:**\n",
        "\n",
        "    planeta = \"Tierra\"\n",
        "    diametro = 12756\n",
        "\n",
        "**Use el método .format() para imprimir en pantalla la siguiente cadena: **\n",
        "\n",
        "    El diámetro del planeta Tierra es 12756 kilometros."
      ]
    },
    {
      "cell_type": "code",
      "metadata": {
        "id": "Ws4ZZ9-cv_YL"
      },
      "source": [
        "planeta = \"Tierra\"\n",
        "diametro = 12756"
      ],
      "execution_count": null,
      "outputs": []
    },
    {
      "cell_type": "code",
      "metadata": {
        "id": "yXpp5WiSv_YR",
        "colab": {
          "base_uri": "https://localhost:8080/"
        },
        "outputId": "4d777dc7-629c-46b4-c54d-89c08822295b"
      },
      "source": [
        "print(\"El diámetro del planeta {} es {} kilometros.\".format(planeta,diametro))"
      ],
      "execution_count": null,
      "outputs": [
        {
          "output_type": "stream",
          "name": "stdout",
          "text": [
            "El diámetro del planeta Tierra es 12756 kilometros.\n"
          ]
        }
      ]
    },
    {
      "cell_type": "code",
      "metadata": {
        "id": "POq8J6Lpv_Ye",
        "outputId": "ed5c372c-2fa3-4bb7-8630-a162e504f348"
      },
      "source": [
        "# NO USAR ESTA CELDA PARA QUE NO SE BORRE EL RESULTADO ESPERADO"
      ],
      "execution_count": null,
      "outputs": [
        {
          "output_type": "stream",
          "text": [
            "El diámetro del planeta Tierra es 12756 kilometros.\n"
          ],
          "name": "stdout"
        }
      ]
    },
    {
      "cell_type": "markdown",
      "metadata": {
        "id": "M6rIDWpcv_Yv"
      },
      "source": [
        "**Dada la siguiente lista anidada, acceda a la palabra \"hola\" usando solamente los índices de la lista: **"
      ]
    },
    {
      "cell_type": "code",
      "metadata": {
        "id": "fAyI9VATv_Y0"
      },
      "source": [
        "lst = [1,2,[3,4],[5,[100,200,['hola']],23,11],1,7]"
      ],
      "execution_count": null,
      "outputs": []
    },
    {
      "cell_type": "code",
      "metadata": {
        "id": "ecOTBUy-v_Y7",
        "colab": {
          "base_uri": "https://localhost:8080/",
          "height": 35
        },
        "outputId": "06a1a30c-42b3-431c-9308-f94766432cc8"
      },
      "source": [
        "lst[-3][-3][-1][0]"
      ],
      "execution_count": null,
      "outputs": [
        {
          "output_type": "execute_result",
          "data": {
            "text/plain": [
              "'hola'"
            ],
            "application/vnd.google.colaboratory.intrinsic+json": {
              "type": "string"
            }
          },
          "metadata": {},
          "execution_count": 22
        }
      ]
    },
    {
      "cell_type": "code",
      "metadata": {
        "id": "fObqF47Kv_ZD",
        "outputId": "7bb30828-31e4-481f-d67c-483f05ebee3b"
      },
      "source": [
        "# NO USAR ESTA CELDA PARA QUE NO SE BORRE EL RESULTADO ESPERADO"
      ],
      "execution_count": null,
      "outputs": [
        {
          "output_type": "execute_result",
          "data": {
            "text/plain": [
              "'hola'"
            ]
          },
          "metadata": {
            "tags": []
          },
          "execution_count": 11
        }
      ]
    },
    {
      "cell_type": "markdown",
      "metadata": {
        "id": "OWkdUIt_v_ZR"
      },
      "source": [
        "**Dado el siguiente diccionario anidado, acceda a la palabra \"hola\". Este ejercicio puede ser un poco difícil.\n",
        "NOTA: Aunque este tipo de cosas no son necesarias normalmente, sirven para terminar de despejar dudas acerca del acceso a diccionarios y listas anidadas:**"
      ]
    },
    {
      "cell_type": "code",
      "metadata": {
        "id": "QK_axa1qv_ZU"
      },
      "source": [
        "d = {'k1':[1,2,3,{'difícil':['que','significa','esto',{'casi':[0,1,2,3,'hola']}]}]}"
      ],
      "execution_count": null,
      "outputs": []
    },
    {
      "cell_type": "code",
      "metadata": {
        "id": "L4AEk58Jv_Zb",
        "colab": {
          "base_uri": "https://localhost:8080/",
          "height": 35
        },
        "outputId": "1413cd84-db68-45b2-d716-2e8eae245ddf"
      },
      "source": [
        "d['k1'][3]['difícil'][3]['casi'][-1]"
      ],
      "execution_count": null,
      "outputs": [
        {
          "output_type": "execute_result",
          "data": {
            "text/plain": [
              "'hola'"
            ],
            "application/vnd.google.colaboratory.intrinsic+json": {
              "type": "string"
            }
          },
          "metadata": {},
          "execution_count": 25
        }
      ]
    },
    {
      "cell_type": "code",
      "metadata": {
        "id": "Ptvfx2jOv_Zg",
        "outputId": "e5027187-cf25-4f3d-a155-d7391728098b"
      },
      "source": [
        "# NO USAR ESTA CELDA PARA QUE NO SE BORRE EL RESULTADO ESPERADO"
      ],
      "execution_count": null,
      "outputs": [
        {
          "output_type": "execute_result",
          "data": {
            "text/plain": [
              "'hola'"
            ]
          },
          "metadata": {
            "tags": []
          },
          "execution_count": 15
        }
      ]
    },
    {
      "cell_type": "markdown",
      "metadata": {
        "id": "zLb2ibKVv_Zs"
      },
      "source": [
        "**¿Cuál es la principal diferencia entre una tupla y una lista? Escriba su respuesta como un comentario de Python**"
      ]
    },
    {
      "cell_type": "code",
      "metadata": {
        "id": "vZkJMPP7v_Zv"
      },
      "source": [
        "#este último puede ser cualquier objeto: un número, una cadena, una función, una clase, una instancia, etc.\n",
        "#La diferencia es que las listas presentan una serie de funciones adicionales que permiten un amplio manejo de los valores que contienen.\n",
        "\n",
        "# respuesta: Las listas son un conjunto de variables que se pueden modificar mientras que las tuplas no se puede"
      ],
      "execution_count": null,
      "outputs": []
    },
    {
      "cell_type": "markdown",
      "metadata": {
        "id": "qZ5desSUv_Z9"
      },
      "source": [
        "**Crear una función llamada \"extraerDominio\" que extraiga el nombre de dominio de un email a partir de una cadena que contenga un email de la siguiente forma:**\n",
        "\n",
        "    usuario@dominio.com\n",
        "    \n",
        "**Por ejemplo: si se le pasa \"camargoj@gmail.com\", la función retornará: gmail.com**"
      ]
    },
    {
      "cell_type": "code",
      "metadata": {
        "id": "SnLVmAoUv_aC"
      },
      "source": [
        "# Definir la función en esta celda\n",
        "def getDominio(email):\n",
        "    return email.split('@')[-1]\n",
        "\n",
        "def extraerDominio(email):\n",
        "    return email.split('@')[0]\n"
      ],
      "execution_count": null,
      "outputs": []
    },
    {
      "cell_type": "code",
      "metadata": {
        "id": "uQK42HdWv_aI",
        "colab": {
          "base_uri": "https://localhost:8080/",
          "height": 35
        },
        "outputId": "60698574-7bc9-4338-ef85-2dc8de030053"
      },
      "source": [
        "# Hacer pruebas en esta celda\n",
        "\n",
        "getDominio('camargoj@gmail.com')"
      ],
      "execution_count": null,
      "outputs": [
        {
          "output_type": "execute_result",
          "data": {
            "text/plain": [
              "'gmail.com'"
            ],
            "application/vnd.google.colaboratory.intrinsic+json": {
              "type": "string"
            }
          },
          "metadata": {},
          "execution_count": 27
        }
      ]
    },
    {
      "cell_type": "code",
      "metadata": {
        "id": "44R1evuAv_aU",
        "colab": {
          "base_uri": "https://localhost:8080/",
          "height": 35
        },
        "outputId": "dfd59e94-b85e-4677-84f4-41a135812dd9"
      },
      "source": [
        "extraerDominio('camargoj@gmail.com')"
      ],
      "execution_count": null,
      "outputs": [
        {
          "output_type": "execute_result",
          "data": {
            "text/plain": [
              "'camargoj'"
            ],
            "application/vnd.google.colaboratory.intrinsic+json": {
              "type": "string"
            }
          },
          "metadata": {},
          "execution_count": 28
        }
      ]
    },
    {
      "cell_type": "markdown",
      "metadata": {
        "id": "TpfnyisEv_ag"
      },
      "source": [
        "**Crear una función que retorne True si la palabra 'perro' está contenida en la cadena de entrada; False, en caso contrario. Por ahora no se preocupe por casos especiales como cuando la palabra tiene algún signo de puntuación inmediatamente despúes de ésta, pero si tenga en cuenta que la palabra puede estar en mayúsculas, minúsculas o una mezcla de ellas.**"
      ]
    },
    {
      "cell_type": "code",
      "metadata": {
        "id": "2ZcgJvtkv_ak"
      },
      "source": [
        "# Definir la función en esta celda\n",
        "def esPerro(cadena):\n",
        "  if 'perro' in cadena.lower():\n",
        "    return True\n",
        "  return False\n",
        "\n",
        "\n"
      ],
      "execution_count": null,
      "outputs": []
    },
    {
      "cell_type": "code",
      "metadata": {
        "id": "ohjRmCfrv_ap",
        "colab": {
          "base_uri": "https://localhost:8080/"
        },
        "outputId": "35611bb9-e0c0-4fd6-e7a4-54ac35c365a4"
      },
      "source": [
        "# Hacer pruebas en esta celda\n",
        "esPerro('¿Hay algún peRRote aquí?')"
      ],
      "execution_count": null,
      "outputs": [
        {
          "output_type": "execute_result",
          "data": {
            "text/plain": [
              "True"
            ]
          },
          "metadata": {},
          "execution_count": 36
        }
      ]
    },
    {
      "cell_type": "code",
      "metadata": {
        "id": "B--kSRoov_at",
        "outputId": "19114eb2-f0ff-4a14-889c-59246c9bda77"
      },
      "source": [
        "encontrarPerro('¿Hay algún peRRo aquí?')"
      ],
      "execution_count": null,
      "outputs": [
        {
          "output_type": "execute_result",
          "data": {
            "text/plain": [
              "True"
            ]
          },
          "metadata": {
            "tags": []
          },
          "execution_count": 27
        }
      ]
    },
    {
      "cell_type": "markdown",
      "metadata": {
        "id": "NQiWhhHVv_a8"
      },
      "source": [
        "**Crear una función que cuente el número de veces que aparece la palabra \"perro\" en una cadena. Puede ignorar casos especiales como antes.**"
      ]
    },
    {
      "cell_type": "code",
      "metadata": {
        "id": "bjA4rCA3v_a-"
      },
      "source": [
        "# Definir la función en esta celda\n",
        "def contarPerro(st):\n",
        "    cuenta = 0\n",
        "    for palabra in st.lower().split():\n",
        "        if palabra == 'perro':\n",
        "            cuenta += 1\n",
        "    return cuenta\n"
      ],
      "execution_count": null,
      "outputs": []
    },
    {
      "cell_type": "code",
      "metadata": {
        "id": "WT9_DF6rv_bE",
        "colab": {
          "base_uri": "https://localhost:8080/"
        },
        "outputId": "996f9690-b1f1-4c78-e723-6faaa484a582"
      },
      "source": [
        "# Hacer pruebas en esta celda\n",
        "\n",
        "contarPerro('Este peRRO corre más rápido que el perro blanco y el perro negro!')"
      ],
      "execution_count": null,
      "outputs": [
        {
          "output_type": "execute_result",
          "data": {
            "text/plain": [
              "3"
            ]
          },
          "metadata": {},
          "execution_count": 38
        }
      ]
    },
    {
      "cell_type": "code",
      "metadata": {
        "id": "kOVujSn_v_bK",
        "outputId": "e4f8508b-6e39-40f4-c081-a87e20889405"
      },
      "source": [
        "contarPerro('Este peRRO corre más rápido que el perro blanco y el perro negro!')"
      ],
      "execution_count": null,
      "outputs": [
        {
          "output_type": "execute_result",
          "data": {
            "text/plain": [
              "3"
            ]
          },
          "metadata": {
            "tags": []
          },
          "execution_count": 48
        }
      ]
    },
    {
      "cell_type": "markdown",
      "metadata": {
        "id": "u9ljFoxBv_bU"
      },
      "source": [
        "**Usar una expresión lambda y la función filter() para filtrar las palabras de una lista que comiencen con la letra 's'. Por ejemplo:**\n",
        "\n",
        "    seq = ['sopa','perro','sal','gato','grande']\n",
        "\n",
        "**se debe filtrar como:**\n",
        "\n",
        "    ['sopa','sal']"
      ]
    },
    {
      "cell_type": "code",
      "metadata": {
        "id": "bvgrJi2nv_bV"
      },
      "source": [
        "seq = ['sopa','perro','sal','gato','grande']"
      ],
      "execution_count": null,
      "outputs": []
    },
    {
      "cell_type": "code",
      "metadata": {
        "id": "bCsEgBJBv_bZ",
        "colab": {
          "base_uri": "https://localhost:8080/"
        },
        "outputId": "f43355d1-7f3c-46a5-84a1-3ed2119df45e"
      },
      "source": [
        "list(filter(lambda palabra: palabra[0]=='s',seq))"
      ],
      "execution_count": null,
      "outputs": [
        {
          "output_type": "execute_result",
          "data": {
            "text/plain": [
              "['sopa', 'sal']"
            ]
          },
          "metadata": {},
          "execution_count": 41
        }
      ]
    },
    {
      "cell_type": "code",
      "metadata": {
        "id": "wp_XZD9Fv_bi",
        "outputId": "b71a34ba-11bd-4825-8297-ac8e95d1bf20"
      },
      "source": [
        "# NO USAR ESTA CELDA PARA QUE NO SE BORRE EL RESULTADO ESPERADO"
      ],
      "execution_count": null,
      "outputs": [
        {
          "output_type": "execute_result",
          "data": {
            "text/plain": [
              "['sopa', 'sal']"
            ]
          },
          "metadata": {
            "tags": []
          },
          "execution_count": 50
        }
      ]
    },
    {
      "cell_type": "markdown",
      "metadata": {
        "id": "xE0y1M7gv_bl"
      },
      "source": [
        "### Problema final\n",
        "**Usted va conduciendo su carro muy rápido y es detenido por un agente de tránsito. Escriba una función que retorne uno de los 3 siguientes resultados: \"Sin multa\", \"Multa pequeña\", or \"Multa grande\".\n",
        "  Si la velocidad es 60 Km/h o menos, el resultado es \"Sin multa\". Si la velocidad está entre 60 y 80 Km/h (inclusive), el resultado es \"Multa pequeña\". Si la velocidad es mayor a 80 Km/h, el resultado es \"Multa grande\". Además, considere que si esto ocurre el día de su cumpleaños (codificado como parámetro booleano que recibe la función), su velocidad podría ser 5 Km/ mayor en todos los casos.**"
      ]
    },
    {
      "cell_type": "code",
      "metadata": {
        "id": "6uxuLDR0v_bm"
      },
      "source": [
        "# Definir la función aquí\n",
        "def definirMulta(velocidad, esCumple):\n",
        "    if esCumple:\n",
        "        velocidad = velocidad - 5\n",
        "    if velocidad > 80:\n",
        "        return 'Multa grande'\n",
        "    if velocidad >= 60:\n",
        "        return 'Multa pequeña'\n",
        "    return 'Sin multa'\n"
      ],
      "execution_count": null,
      "outputs": []
    },
    {
      "cell_type": "code",
      "metadata": {
        "id": "--dxQG-Iv_bp",
        "colab": {
          "base_uri": "https://localhost:8080/",
          "height": 35
        },
        "outputId": "8abcf3fc-8352-4d55-f47b-c29e6462e097"
      },
      "source": [
        "# Hacer pruebas aquí\n",
        "\n",
        "definirMulta(60,False)"
      ],
      "execution_count": null,
      "outputs": [
        {
          "output_type": "execute_result",
          "data": {
            "text/plain": [
              "'Multa pequeña'"
            ],
            "application/vnd.google.colaboratory.intrinsic+json": {
              "type": "string"
            }
          },
          "metadata": {},
          "execution_count": 44
        }
      ]
    },
    {
      "cell_type": "code",
      "metadata": {
        "id": "yLWqy7NWv_bv",
        "outputId": "6ecdbb41-559b-4416-8b03-9c73d949c27c",
        "colab": {
          "base_uri": "https://localhost:8080/",
          "height": 35
        }
      },
      "source": [
        "definirMulta(80,True)"
      ],
      "execution_count": null,
      "outputs": [
        {
          "output_type": "execute_result",
          "data": {
            "text/plain": [
              "'Multa pequeña'"
            ],
            "application/vnd.google.colaboratory.intrinsic+json": {
              "type": "string"
            }
          },
          "metadata": {},
          "execution_count": 45
        }
      ]
    },
    {
      "cell_type": "code",
      "metadata": {
        "id": "Azjv8GE7v_b0",
        "outputId": "0ae34d37-bb2c-4349-cf2e-d58425a3666e",
        "colab": {
          "base_uri": "https://localhost:8080/",
          "height": 35
        }
      },
      "source": [
        "definirMulta(81,False)"
      ],
      "execution_count": null,
      "outputs": [
        {
          "output_type": "execute_result",
          "data": {
            "text/plain": [
              "'Multa grande'"
            ],
            "application/vnd.google.colaboratory.intrinsic+json": {
              "type": "string"
            }
          },
          "metadata": {},
          "execution_count": 46
        }
      ]
    }
  ]
}
